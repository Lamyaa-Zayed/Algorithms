{
 "cells": [
  {
   "cell_type": "markdown",
   "metadata": {},
   "source": [
    "It is required to implement a python program that simulate a knapsack filling using a greedy algorithm. \n",
    "\n",
    "The program should start with a menu to choose from it:\n",
    "1- The type of Knapsack ( Fractional - I/0)\n",
    "2- The cost function based on (Maximum Profit - Minimum Weight - Maximum Profit/Weight - All)\n",
    "3- Update the objects and the maximum weight of the knapsack (constrain)\n",
    "4- Close the program \n",
    "\n",
    "** Always think that this program may be used again with additional functionalities.\n",
    "\n",
    "** Any additional features may be considered as bonus."
   ]
  },
  {
   "cell_type": "code",
   "execution_count": 24,
   "metadata": {},
   "outputs": [],
   "source": [
    "from IPython.display import clear_output\n"
   ]
  },
  {
   "cell_type": "code",
   "execution_count": null,
   "metadata": {},
   "outputs": [
    {
     "name": "stdout",
     "output_type": "stream",
     "text": [
      "\t   1- The type of Knapsack ( Fractional - I/0) \n",
      "           2- The cost function based on (Maximum Profit - Minimum Weight - Maximum Profit/Weight - All)\n",
      "           3- Update the objects and the maximum weight of the knapsack (constrain)\n",
      "           4- Close the program \n"
     ]
    }
   ],
   "source": [
    "def knapsack_greedy(knaptype, cost, weight, item_list):\n",
    "    cost_function = []\n",
    "    \n",
    "    if cost == 1:   #Max profit\n",
    "        for j in range (len(item_list)):\n",
    "            for i in range (len(item_list)-1):\n",
    "                if item_list[i][1] < item_list[i+1][1]:\n",
    "                    item_list[i] , item_list[i+1] = item_list[i+1] , item_list[i]\n",
    "\n",
    "    elif cost == 2:  #Min weight\n",
    "        for j in range (len(item_list)):\n",
    "            for i in range (len(item_list)-1):\n",
    "                if item_list[i][2] < item_list[i+1][2]:\n",
    "                    item_list[i] , item_list[i+1] = item_list[i+1] , item_list[i]\n",
    "\n",
    "    elif cost == 3:   #profit per weight\n",
    "        for j in range (len(item_list)):\n",
    "            for i in range (len(item_list)-1):\n",
    "                if (item_list[i][1] / item_list[i][2]) < (item_list[i+1][1] / item_list[i+1][2]):\n",
    "                    item_list[i] , item_list[i+1] = item_list[i+1] , item_list[i]\n",
    "\n",
    "    for i in range (len(item_list)):\n",
    "        if (weight >= item_list[i][2]):\n",
    "            cost_function.append(item_list[i])\n",
    "            weight-=item_list[i][2]\n",
    "        else:\n",
    "            if knaptype == 0:  #1/0\n",
    "                break\n",
    "            else:            #fractional\n",
    "                fraction = weight / item_list[i][2]\n",
    "                cost_function.append( (item_list[i][0], fraction * item_list[i][1], fraction * item_list[i][2]) )\n",
    "                weight=0\n",
    "                break \n",
    "        \n",
    "                \n",
    "    return cost_function\n",
    "    \n",
    "        \n",
    "Ans=0\n",
    "knaptype=0\n",
    "cost=1\n",
    "weight = 0\n",
    "item_list = [(1,5,1),(2,10,3),(3,15,5),(4,7,4),(5,8,1),(6,9,3),(7,4,2)]    #(Object,Profit,Weight)\n",
    "while Ans != 4:\n",
    "    print(\"\\t   1- The type of Knapsack ( Fractional - I/0) \\n\\\n",
    "           2- The cost function based on (Maximum Profit - Minimum Weight - Maximum Profit/Weight - All)\\n\\\n",
    "           3- Update the objects and the maximum weight of the knapsack (constrain)\\n\\\n",
    "           4- Close the program \")\n",
    "    Ans= int(input('Please select from options above:'))\n",
    "    if Ans == 1:\n",
    "        knaptype = int(input(\"\\n Enter the type of knapsack! Choose 0 for 1/0 and Choose 1 for Fractional:\"))\n",
    "    elif Ans == 2:\n",
    "        cost = int(input(\"\\n Choose #1 for Maximum Profit, Choose #2 for Minimum Weight, Choose #3 for Maximum Profit/Weight:\"))\n",
    "    elif Ans == 3:\n",
    "        weight = int(input(\"\\n Enter the maximum weight:\"))\n",
    "        if weight < 1:\n",
    "            print('Invalid weight..')\n",
    "        else:\n",
    "            print(knapsack_greedy(knaptype,cost,weight,item_list))\n",
    "            input('Cost function..')\n",
    "    clear_output(wait=True)\n",
    "print('End of execution..')  \n",
    "    \n"
   ]
  },
  {
   "cell_type": "code",
   "execution_count": null,
   "metadata": {},
   "outputs": [],
   "source": []
  },
  {
   "cell_type": "code",
   "execution_count": null,
   "metadata": {},
   "outputs": [],
   "source": []
  },
  {
   "cell_type": "code",
   "execution_count": null,
   "metadata": {},
   "outputs": [],
   "source": []
  },
  {
   "cell_type": "code",
   "execution_count": null,
   "metadata": {},
   "outputs": [],
   "source": []
  }
 ],
 "metadata": {
  "kernelspec": {
   "display_name": "Python 3",
   "language": "python",
   "name": "python3"
  }
 },
 "nbformat": 4,
 "nbformat_minor": 4
}

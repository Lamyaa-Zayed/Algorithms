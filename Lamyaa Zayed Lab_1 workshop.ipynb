{
 "cells": [
  {
   "cell_type": "code",
   "execution_count": 1,
   "metadata": {},
   "outputs": [
    {
     "name": "stdout",
     "output_type": "stream",
     "text": [
      "120\n"
     ]
    }
   ],
   "source": [
    "#factorial in iterative method\n",
    "\n",
    "def factorial(n):\n",
    "    f = 1\n",
    "    \n",
    "    for i in range (1, n+1):\n",
    "        f *= i\n",
    "    return f\n",
    "\n",
    "print(factorial(5))"
   ]
  },
  {
   "cell_type": "code",
   "execution_count": 2,
   "metadata": {},
   "outputs": [
    {
     "name": "stdout",
     "output_type": "stream",
     "text": [
      "120\n"
     ]
    }
   ],
   "source": [
    "#factorial in recursive method\n",
    "\n",
    "def factorial_rec(n):\n",
    "    if n <= 1:\n",
    "        return 1\n",
    "    else:\n",
    "        return n *  factorial_rec(n-1)\n",
    "\n",
    "print(factorial_rec(5))"
   ]
  },
  {
   "cell_type": "code",
   "execution_count": 3,
   "metadata": {},
   "outputs": [
    {
     "name": "stdout",
     "output_type": "stream",
     "text": [
      "13\n"
     ]
    }
   ],
   "source": [
    "#fibonacci with iterative\n",
    "\n",
    "def fibonacci(n):\n",
    "    first=0\n",
    "    second=1\n",
    "    for i in range(1, n+1):\n",
    "        result = first + second\n",
    "        first = second\n",
    "        second = result\n",
    "        \n",
    "    return result\n",
    "\n",
    "print(fibonacci(6))"
   ]
  },
  {
   "cell_type": "code",
   "execution_count": 4,
   "metadata": {},
   "outputs": [
    {
     "name": "stdout",
     "output_type": "stream",
     "text": [
      "13\n"
     ]
    }
   ],
   "source": [
    "#fibonacci with recursive\n",
    "\n",
    "def fibo_rec(n):\n",
    "    if (n == 0) or (n == 1):\n",
    "        return 1\n",
    "    else:\n",
    "        return (fibo_rec(n-1) + fibo_rec(n-2))\n",
    "\n",
    "print(fibo_rec(6))"
   ]
  },
  {
   "cell_type": "code",
   "execution_count": 5,
   "metadata": {},
   "outputs": [
    {
     "name": "stdout",
     "output_type": "stream",
     "text": [
      "12\n"
     ]
    }
   ],
   "source": [
    "#Greatest Common Divisor with iterartive\n",
    "\n",
    "def GCD(n1, n2):\n",
    "    result = 1\n",
    "    for i in range (min(n1,n2), 1, -1):\n",
    "        if (n1 % i == 0) and (n2 %i == 0) :\n",
    "            result = i\n",
    "            break\n",
    "    return result\n",
    "    \n",
    "print(GCD(48, 36))       "
   ]
  },
  {
   "cell_type": "code",
   "execution_count": 6,
   "metadata": {},
   "outputs": [
    {
     "name": "stdout",
     "output_type": "stream",
     "text": [
      "12\n"
     ]
    }
   ],
   "source": [
    "#Greatest Common Divisor with recursive\n",
    "\n",
    "def GCD_rec(n1, n2):\n",
    "    if (n2 == 0):\n",
    "        return n1\n",
    "    else:\n",
    "        return GCD_rec(n2, n1%n2)\n",
    "       \n",
    "print(GCD_rec(36, 48))"
   ]
  },
  {
   "cell_type": "code",
   "execution_count": 7,
   "metadata": {},
   "outputs": [
    {
     "data": {
      "text/plain": [
       "12"
      ]
     },
     "execution_count": 7,
     "metadata": {},
     "output_type": "execute_result"
    }
   ],
   "source": [
    "import math\n",
    "math.gcd(36,48)"
   ]
  },
  {
   "cell_type": "code",
   "execution_count": null,
   "metadata": {},
   "outputs": [],
   "source": []
  }
 ],
 "metadata": {
  "kernelspec": {
   "display_name": "Python 3",
   "language": "python",
   "name": "python3"
  },
  "language_info": {
   "codemirror_mode": {
    "name": "ipython",
    "version": 3
   },
   "file_extension": ".py",
   "mimetype": "text/x-python",
   "name": "python",
   "nbconvert_exporter": "python",
   "pygments_lexer": "ipython3",
   "version": "3.8.5"
  }
 },
 "nbformat": 4,
 "nbformat_minor": 4
}

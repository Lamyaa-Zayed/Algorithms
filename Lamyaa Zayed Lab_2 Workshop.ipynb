{
 "cells": [
  {
   "cell_type": "code",
   "execution_count": 1,
   "metadata": {},
   "outputs": [
    {
     "data": {
      "text/plain": [
       "6"
      ]
     },
     "execution_count": 1,
     "metadata": {},
     "output_type": "execute_result"
    }
   ],
   "source": [
    "import math\n",
    "math.gcd(54,24)"
   ]
  },
  {
   "cell_type": "code",
   "execution_count": 2,
   "metadata": {},
   "outputs": [
    {
     "name": "stdout",
     "output_type": "stream",
     "text": [
      "6\n"
     ]
    }
   ],
   "source": [
    "#iterative\n",
    "\n",
    "def Euclidean(a, b):\n",
    "    \n",
    "    while (b != 0):\n",
    "#         a, b = b, a%b\n",
    "        r = a%b\n",
    "        a = b\n",
    "        b = r\n",
    "#         print(a, b, r)\n",
    "    return a\n",
    "    \n",
    "print(Euclidean(54, 24))\n",
    "        "
   ]
  },
  {
   "cell_type": "code",
   "execution_count": 3,
   "metadata": {},
   "outputs": [
    {
     "name": "stdout",
     "output_type": "stream",
     "text": [
      "6\n"
     ]
    }
   ],
   "source": [
    "#recursive\n",
    "\n",
    "def Euclidean_rec(a, b):\n",
    "    if b == 0:\n",
    "        return a\n",
    "    else:\n",
    "        return Euclidean_rec(b, a%b)\n",
    "    \n",
    "print(Euclidean_rec(54, 24))"
   ]
  },
  {
   "cell_type": "code",
   "execution_count": 4,
   "metadata": {},
   "outputs": [
    {
     "name": "stdout",
     "output_type": "stream",
     "text": [
      "[0, 1, 2, 3, 5]\n"
     ]
    }
   ],
   "source": [
    "def insertonSort(a):\n",
    "    for i in range(1, len(a)):\n",
    "        key = a[i]\n",
    "        j = i-1\n",
    "        while (key < a[j]) and (j >= 0):\n",
    "            a[j+1], a[j] = a[j], a[j+1]    #swap\n",
    "            j = j - 1\n",
    "#             a[j+1]= a[j]   #instead of swap\n",
    "#             j = j - 1\n",
    "#         a[j+1] = key\n",
    "    return a\n",
    "\n",
    "a = [5, 2, 0, 1, 3]\n",
    "print(insertonSort(a))"
   ]
  },
  {
   "cell_type": "code",
   "execution_count": 5,
   "metadata": {},
   "outputs": [
    {
     "name": "stdout",
     "output_type": "stream",
     "text": [
      "[-1, 0, 1, 2, 3, 5, 6, 7]\n"
     ]
    }
   ],
   "source": [
    "#recursive\n",
    "\n",
    "def insertonSort_rec2(a, i):\n",
    "    key = a[i]\n",
    "    j = i-1\n",
    "    while (key < a[j]) and (j >= 0):\n",
    "        a[j+1]= a[j]   #instead of swap\n",
    "        j = j - 1\n",
    "    a[j+1] = key\n",
    "    if (i+1 < len(a)):\n",
    "        insertonSort_rec2(a, i+1)\n",
    "    return a\n",
    "\n",
    "a = [5, 2, 0, 1, 3, 7, 6, -1]\n",
    "print(insertonSort_rec2(a, 1))"
   ]
  },
  {
   "cell_type": "code",
   "execution_count": 6,
   "metadata": {},
   "outputs": [
    {
     "name": "stdout",
     "output_type": "stream",
     "text": [
      "[0, 1, 2, 3, 5]\n"
     ]
    }
   ],
   "source": [
    "#recursive\n",
    "\n",
    "def insertonSort_rec(a, size):\n",
    "    if (size <= 1):\n",
    "        return 1\n",
    "    \n",
    "    insertonSort_rec(a, size-1)\n",
    "    key = a[size-1]\n",
    "    j = size - 2\n",
    "    while (key < a[j]) and (j >= 0):\n",
    "        a[j+1] = a[j]\n",
    "        j = j - 1\n",
    "    a[j+1] = key\n",
    "    \n",
    "    return a\n",
    "\n",
    "a = [5, 2, 0, 1, 3]\n",
    "print(insertonSort_rec(a, 5))"
   ]
  },
  {
   "cell_type": "code",
   "execution_count": 7,
   "metadata": {},
   "outputs": [
    {
     "name": "stdout",
     "output_type": "stream",
     "text": [
      "[0, 1, 2, 3, 5]\n"
     ]
    }
   ],
   "source": [
    "def bubbleSort(a):\n",
    "    for i in range(0, len(a)):\n",
    "        for j in range (0,len(a)-1-i):\n",
    "            if (a[j] > a[j+1]):\n",
    "                a[j+1], a[j] = a[j], a[j+1]\n",
    "                j += 1\n",
    "\n",
    "    return a\n",
    "\n",
    "a = [5, 2, 0, 1, 3]\n",
    "print(bubbleSort(a))"
   ]
  },
  {
   "cell_type": "code",
   "execution_count": 8,
   "metadata": {},
   "outputs": [
    {
     "name": "stdout",
     "output_type": "stream",
     "text": [
      "[0, 1, 2, 3, 5]\n"
     ]
    }
   ],
   "source": [
    "def bubbleSort_optimize(a):\n",
    "    sort = 0\n",
    "    while not sort:\n",
    "        sort = 1\n",
    "        for i in range (len(a)-1):\n",
    "            if a[i]>a[i+1]:\n",
    "                a[i],a[i+1] = a[i+1],a[i]\n",
    "                sort = 0\n",
    "    return a\n",
    "\n",
    "a = [5, 2, 0, 1, 3]\n",
    "print(bubbleSort_optimize(a))"
   ]
  },
  {
   "cell_type": "code",
   "execution_count": 9,
   "metadata": {},
   "outputs": [
    {
     "name": "stdout",
     "output_type": "stream",
     "text": [
      "[0, 1, 2, 3, 5]\n"
     ]
    }
   ],
   "source": [
    "#recursive\n",
    "\n",
    "def bubbleSort_rec(a, i):\n",
    "    for j in range (0,len(a)-1):\n",
    "        if (a[j] > a[j+1]):\n",
    "            a[j+1], a[j] = a[j], a[j+1]\n",
    "#             j += 1\n",
    "    if (i < len(a)):\n",
    "        a = bubbleSort_rec(a, i+1)\n",
    "    return a\n",
    "\n",
    "a = [5, 2, 0, 1, 3]\n",
    "print(bubbleSort_rec(a, 1))"
   ]
  },
  {
   "cell_type": "code",
   "execution_count": 10,
   "metadata": {},
   "outputs": [
    {
     "name": "stdout",
     "output_type": "stream",
     "text": [
      "None\n"
     ]
    }
   ],
   "source": [
    "arr = [1,5,2,7,3]\n",
    "\n",
    "def bubbleSort(array):\n",
    "    count = 0\n",
    "    for idx in range(len(array)-1):\n",
    "        if array[idx] > array[idx + 1]:\n",
    "            array[idx],array[idx + 1] = array[idx + 1],array[idx]\n",
    "            count += 1\n",
    "    if count == 0:\n",
    "        return array\n",
    "    else:\n",
    "        bubbleSort(array)\n",
    "        \n",
    "print(bubbleSort(arr))\n"
   ]
  },
  {
   "cell_type": "code",
   "execution_count": 11,
   "metadata": {},
   "outputs": [
    {
     "name": "stdout",
     "output_type": "stream",
     "text": [
      "4\n"
     ]
    }
   ],
   "source": [
    "def LinearSearch(a, key):\n",
    "    for i in range (len(a)):\n",
    "        if a[i] == key:\n",
    "            return i\n",
    "    return -1\n",
    "    \n",
    "print(LinearSearch([2, 4, 6, 1, 3], 3))\n",
    "    "
   ]
  },
  {
   "cell_type": "code",
   "execution_count": 12,
   "metadata": {},
   "outputs": [
    {
     "name": "stdout",
     "output_type": "stream",
     "text": [
      "2\n"
     ]
    }
   ],
   "source": [
    "#recursive\n",
    "\n",
    "def LinearSearch_rec(a, i, key):\n",
    "    \n",
    "    if (a[i] == key) :\n",
    "        return i\n",
    "    elif (i+1 < len(a)):\n",
    "        return LinearSearch_rec(a, i+1, key)\n",
    "        \n",
    "    else:\n",
    "        return -1\n",
    "    \n",
    "  \n",
    "print(LinearSearch_rec([2, 1, 6, 7, 3],1, 6))"
   ]
  },
  {
   "cell_type": "code",
   "execution_count": 13,
   "metadata": {},
   "outputs": [
    {
     "name": "stdout",
     "output_type": "stream",
     "text": [
      "3\n"
     ]
    }
   ],
   "source": [
    "def binarySearch(a, l, r, key):\n",
    "    while r>= l: \n",
    "        m = l+(r-1) // 2\n",
    "        if a[m] == key:\n",
    "            return m\n",
    "        elif a[m] > key:\n",
    "            r = m-1\n",
    "        else:\n",
    "            l = m+1\n",
    "            \n",
    "    return -1\n",
    "    \n",
    "arr = [ 2, 3, 4, 10, 40 ]\n",
    "key = 10\n",
    "print(binarySearch(arr, 0, len(arr)-1, key))"
   ]
  },
  {
   "cell_type": "code",
   "execution_count": 14,
   "metadata": {},
   "outputs": [
    {
     "name": "stdout",
     "output_type": "stream",
     "text": [
      "3\n"
     ]
    }
   ],
   "source": [
    "#recursive\n",
    "\n",
    "def binarySearch_rec (arr, l, r, key):\n",
    "    if r >= l:\n",
    "        mid = l + (r - l) // 2\n",
    "        if arr[mid] == key:\n",
    "            return mid\n",
    "        elif arr[mid] > key:   #left\n",
    "            return binarySearch_rec(arr, l, mid-1, key)\n",
    "        else:                  #right\n",
    "            return binarySearch_rec(arr, mid + 1, r, key)\n",
    " \n",
    "    else:\n",
    "        return -1\n",
    " \n",
    "\n",
    "arr = [ 2, 3, 4, 10, 40 ]\n",
    "key = 10\n",
    "print(binarySearch_rec(arr, 0, len(arr)-1, key))"
   ]
  },
  {
   "cell_type": "code",
   "execution_count": null,
   "metadata": {},
   "outputs": [],
   "source": []
  },
  {
   "cell_type": "markdown",
   "metadata": {},
   "source": [
    "# Quiz"
   ]
  },
  {
   "cell_type": "code",
   "execution_count": 15,
   "metadata": {},
   "outputs": [
    {
     "name": "stdout",
     "output_type": "stream",
     "text": [
      "Remaining boys are  [1, 2, 3, 4, 5, 6, 7, 8, 9, 10, 11, 12, 13, 14, 15, 16, 17, 18, 19, 20, 21, 22, 23, 24, 25, 26, 27, 28, 29, 30, 31, 32, 33, 34, 35, 36, 37, 38, 39, 40, 41, 42, 43, 44, 45, 46, 47, 48, 49, 50, 51, 52, 53, 54, 55, 56, 57, 58, 59, 60, 61, 62, 63, 64, 65, 66, 67, 68, 69, 70, 71, 72, 73, 74, 75, 76, 77, 78, 79, 80, 81, 82, 83, 84, 85, 86, 87, 88, 89, 90, 91, 92, 93, 94, 95, 96, 97, 98, 99, 100]\n",
      "1  Killed  2\n",
      "3  Killed  4\n",
      "5  Killed  6\n",
      "7  Killed  8\n",
      "9  Killed  10\n",
      "11  Killed  12\n",
      "13  Killed  14\n",
      "15  Killed  16\n",
      "17  Killed  18\n",
      "19  Killed  20\n",
      "21  Killed  22\n",
      "23  Killed  24\n",
      "25  Killed  26\n",
      "27  Killed  28\n",
      "29  Killed  30\n",
      "31  Killed  32\n",
      "33  Killed  34\n",
      "35  Killed  36\n",
      "37  Killed  38\n",
      "39  Killed  40\n",
      "41  Killed  42\n",
      "43  Killed  44\n",
      "45  Killed  46\n",
      "47  Killed  48\n",
      "49  Killed  50\n",
      "51  Killed  52\n",
      "53  Killed  54\n",
      "55  Killed  56\n",
      "57  Killed  58\n",
      "59  Killed  60\n",
      "61  Killed  62\n",
      "63  Killed  64\n",
      "65  Killed  66\n",
      "67  Killed  68\n",
      "69  Killed  70\n",
      "71  Killed  72\n",
      "73  Killed  74\n",
      "75  Killed  76\n",
      "77  Killed  78\n",
      "79  Killed  80\n",
      "81  Killed  82\n",
      "83  Killed  84\n",
      "85  Killed  86\n",
      "87  Killed  88\n",
      "89  Killed  90\n",
      "91  Killed  92\n",
      "93  Killed  94\n",
      "95  Killed  96\n",
      "97  Killed  98\n",
      "99  Killed  100\n",
      "Remaining boys are  [1, 3, 5, 7, 9, 11, 13, 15, 17, 19, 21, 23, 25, 27, 29, 31, 33, 35, 37, 39, 41, 43, 45, 47, 49, 51, 53, 55, 57, 59, 61, 63, 65, 67, 69, 71, 73, 75, 77, 79, 81, 83, 85, 87, 89, 91, 93, 95, 97, 99]\n",
      "1  Killed  3\n",
      "5  Killed  7\n",
      "9  Killed  11\n",
      "13  Killed  15\n",
      "17  Killed  19\n",
      "21  Killed  23\n",
      "25  Killed  27\n",
      "29  Killed  31\n",
      "33  Killed  35\n",
      "37  Killed  39\n",
      "41  Killed  43\n",
      "45  Killed  47\n",
      "49  Killed  51\n",
      "53  Killed  55\n",
      "57  Killed  59\n",
      "61  Killed  63\n",
      "65  Killed  67\n",
      "69  Killed  71\n",
      "73  Killed  75\n",
      "77  Killed  79\n",
      "81  Killed  83\n",
      "85  Killed  87\n",
      "89  Killed  91\n",
      "93  Killed  95\n",
      "97  Killed  99\n",
      "Remaining boys are  [1, 5, 9, 13, 17, 21, 25, 29, 33, 37, 41, 45, 49, 53, 57, 61, 65, 69, 73, 77, 81, 85, 89, 93, 97]\n",
      "1  Killed  5\n",
      "9  Killed  13\n",
      "17  Killed  21\n",
      "25  Killed  29\n",
      "33  Killed  37\n",
      "41  Killed  45\n",
      "49  Killed  53\n",
      "57  Killed  61\n",
      "65  Killed  69\n",
      "73  Killed  77\n",
      "81  Killed  85\n",
      "89  Killed  93\n",
      "97  Killed  1\n",
      "Remaining boys are  [9, 17, 25, 33, 41, 49, 57, 65, 73, 81, 89, 97]\n",
      "9  Killed  17\n",
      "25  Killed  33\n",
      "41  Killed  49\n",
      "57  Killed  65\n",
      "73  Killed  81\n",
      "89  Killed  97\n",
      "Remaining boys are  [9, 25, 41, 57, 73, 89]\n",
      "9  Killed  25\n",
      "41  Killed  57\n",
      "73  Killed  89\n",
      "Remaining boys are  [9, 41, 73]\n",
      "9  Killed  41\n",
      "73  Killed  9\n",
      "Remaining boys are  [73]\n",
      "The winner is  [73]\n"
     ]
    }
   ],
   "source": [
    "import numpy as np\n",
    "def badboy(a):\n",
    "    print('Remaining boys are ',a)\n",
    "    i = 0\n",
    "    while (i < (len(a)-1)):\n",
    "        print(a[i],' Killed ',a[i+1])\n",
    "        a.remove(a[i+1])\n",
    "        i+=1\n",
    "        \n",
    "    if len(a) == 1:\n",
    "        return a\n",
    "    else:\n",
    "        if i == (len(a)-1) :\n",
    "            print(a[i],' Killed ',a[0])\n",
    "            a.remove(a[0])\n",
    "        return badboy(a)\n",
    "    \n",
    "num = 100\n",
    "a = list(range(1, num+1))\n",
    "print('The winner is ',badboy(a))\n",
    "# print(a)"
   ]
  },
  {
   "cell_type": "code",
   "execution_count": null,
   "metadata": {},
   "outputs": [],
   "source": []
  },
  {
   "cell_type": "code",
   "execution_count": null,
   "metadata": {},
   "outputs": [],
   "source": []
  }
 ],
 "metadata": {
  "kernelspec": {
   "display_name": "Python 3",
   "language": "python",
   "name": "python3"
  },
  "language_info": {
   "codemirror_mode": {
    "name": "ipython",
    "version": 3
   },
   "file_extension": ".py",
   "mimetype": "text/x-python",
   "name": "python",
   "nbconvert_exporter": "python",
   "pygments_lexer": "ipython3",
   "version": "3.8.5"
  }
 },
 "nbformat": 4,
 "nbformat_minor": 4
}

{
 "cells": [
  {
   "cell_type": "code",
   "execution_count": 3,
   "metadata": {},
   "outputs": [],
   "source": [
    "class Stack:\n",
    "    \n",
    "    def __init__(self, size=20):\n",
    "        self.elements = []\n",
    "        self.counter = 0\n",
    "        if size<1 and size!=floor(size):\n",
    "            raise(ValueError(\"size should be positive.\"))\n",
    "        else:\n",
    "            self.size = size\n",
    "        \n",
    "    def push(self, data):\n",
    "        if not self.isFull():\n",
    "            self.counter += 1\n",
    "            self.elements.append(data)\n",
    "        else:\n",
    "            print(\"\\n stack if full.\")\n",
    "    \n",
    "    def pop(self):\n",
    "        if not self.isEmpty():\n",
    "            self.counter -= 1\n",
    "            return self.elements.pop(-1)\n",
    "        else:\n",
    "            print(\"\\n stack is empty.\")\n",
    "    \n",
    "    def isFull(self):\n",
    "        if self.counter == self.size:\n",
    "            return True\n",
    "        else:\n",
    "            return False\n",
    "            \n",
    "    def isEmpty(self):\n",
    "        if self.counter == 0:\n",
    "            return True\n",
    "        else:\n",
    "            return False\n",
    "            \n",
    "    def rear(self):\n",
    "        return self.elements[-1]\n",
    "    \n",
    "    def front(self):\n",
    "        return self.elements[0]"
   ]
  },
  {
   "cell_type": "code",
   "execution_count": 6,
   "metadata": {},
   "outputs": [
    {
     "data": {
      "text/plain": [
       "0"
      ]
     },
     "execution_count": 6,
     "metadata": {},
     "output_type": "execute_result"
    }
   ],
   "source": [
    "DFS_item = Stack()\n",
    "DFS_item.counter\n"
   ]
  },
  {
   "cell_type": "code",
   "execution_count": 10,
   "metadata": {},
   "outputs": [
    {
     "name": "stdout",
     "output_type": "stream",
     "text": [
      "\n",
      " stack if full.\n",
      "\n",
      " stack if full.\n",
      "\n",
      " stack if full.\n",
      "\n",
      " stack if full.\n",
      "\n",
      " stack if full.\n",
      "[60, 60, 60, 60, 60, 60, 60, 60, 60, 60, 60, 60, 60, 60, 60, 60, 60, 100, 60, 60] 20\n",
      "\n",
      " stack if full.\n",
      "[60, 60, 60, 60, 60, 60, 60, 60, 60, 60, 60, 60, 60, 60, 60, 60, 60, 100, 60, 60] 20\n",
      "<bound method Stack.pop of <__main__.Stack object at 0x00000290C5386070>>\n",
      "[60, 60, 60, 60, 60, 60, 60, 60, 60, 60, 60, 60, 60, 60, 60, 60, 60, 100, 60, 60] 20\n"
     ]
    }
   ],
   "source": [
    "DFS_item.push(60)\n",
    "DFS_item.push(60)\n",
    "DFS_item.push(60)\n",
    "DFS_item.push(60)\n",
    "DFS_item.push(60)\n",
    "DFS_item.push(60)\n",
    "DFS_item.push(60)\n",
    "print(DFS_item.elements, DFS_item.size)\n",
    "DFS_item.push(100)\n",
    "print(DFS_item.elements, DFS_item.size)\n",
    "print(DFS_item.pop)\n",
    "print(DFS_item.elements, DFS_item.size)\n"
   ]
  },
  {
   "cell_type": "code",
   "execution_count": null,
   "metadata": {},
   "outputs": [],
   "source": []
  },
  {
   "cell_type": "code",
   "execution_count": 4,
   "metadata": {},
   "outputs": [],
   "source": [
    "class Queue:\n",
    "    \n",
    "    def __init__(self, size=20):\n",
    "        self.elements = []\n",
    "        self.counter = 0\n",
    "        if size<1 and size!=floor(size):\n",
    "            raise(ValueError(\"size should be positive.\"))\n",
    "        else:\n",
    "            self.size = size\n",
    "        \n",
    "    def push(self, data):\n",
    "        if not self.isFull():\n",
    "            self.counter += 1\n",
    "            self.elements.append(data)\n",
    "        else:\n",
    "            print(\"\\n stack if full.\")\n",
    "    \n",
    "    def pop(self):\n",
    "        if not self.isEmpty():\n",
    "            self.counter -= 1\n",
    "            return self.elements.pop(0)\n",
    "        else:\n",
    "            print(\"\\n stack is empty.\")\n",
    "    \n",
    "    def isFull(self):\n",
    "        if self.counter == self.size:\n",
    "            return True\n",
    "        else:\n",
    "            return False\n",
    "            \n",
    "    def isEmpty(self):\n",
    "        if self.counter == 0:\n",
    "            return True\n",
    "        else:\n",
    "            return False\n",
    "            \n",
    "    def rear(self):\n",
    "        return self.elements[-1]\n",
    "    \n",
    "    def front(self):\n",
    "        return self.elements[0]"
   ]
  },
  {
   "cell_type": "code",
   "execution_count": 11,
   "metadata": {},
   "outputs": [
    {
     "data": {
      "text/plain": [
       "0"
      ]
     },
     "execution_count": 11,
     "metadata": {},
     "output_type": "execute_result"
    }
   ],
   "source": [
    "BFS_item = Queue()\n",
    "BFS_item.counter"
   ]
  },
  {
   "cell_type": "code",
   "execution_count": null,
   "metadata": {},
   "outputs": [],
   "source": [
    "from queue import Queue\n",
    "from queue import LifoQueue\n",
    "from collections import deque"
   ]
  },
  {
   "cell_type": "code",
   "execution_count": null,
   "metadata": {},
   "outputs": [],
   "source": []
  },
  {
   "cell_type": "code",
   "execution_count": 29,
   "metadata": {},
   "outputs": [],
   "source": [
    "G = {\"a\":[\"b\",\"c\",\"e\"], \"b\":[\"a\",\"d\"], \"c\":[\"a\",\"d\",\"e\",\"f\"], \"d\":[\"b\",\"c\",\"e\"], \"e\":[\"a\",\"d\",\"c\"], \"f\":[\"c\"] }"
   ]
  },
  {
   "cell_type": "code",
   "execution_count": 33,
   "metadata": {},
   "outputs": [],
   "source": [
    "def DFS(G, start=\"a\", size=15):\n",
    "    visitedList = []\n",
    "    s=Stack(size)\n",
    "    node = start\n",
    "    s.push(node)\n",
    "    print(\"visited\", visitedList)\n",
    "    \n",
    "    while not s.isEmpty():\n",
    "        node = s.pop()\n",
    "        print(node)\n",
    "        if node not in visitedList:\n",
    "            visitedList.append(node)\n",
    "            for neibours in G[node]:\n",
    "                s.push(neibours)\n",
    "    \n",
    "#         else:\n",
    "#             s.pop()\n",
    "            \n",
    "\n",
    "        print(\"next element\", node)\n",
    "        print(\"visited\",visitedList)\n",
    "        \n",
    "        \n",
    "    return visitedList\n",
    "    "
   ]
  },
  {
   "cell_type": "code",
   "execution_count": 34,
   "metadata": {},
   "outputs": [
    {
     "name": "stdout",
     "output_type": "stream",
     "text": [
      "visited []\n",
      "a\n",
      "next element a\n",
      "visited ['a']\n",
      "e\n",
      "next element e\n",
      "visited ['a', 'e']\n",
      "c\n",
      "next element c\n",
      "visited ['a', 'e', 'c']\n",
      "f\n",
      "next element f\n",
      "visited ['a', 'e', 'c', 'f']\n",
      "c\n",
      "next element c\n",
      "visited ['a', 'e', 'c', 'f']\n",
      "e\n",
      "next element e\n",
      "visited ['a', 'e', 'c', 'f']\n",
      "d\n",
      "next element d\n",
      "visited ['a', 'e', 'c', 'f', 'd']\n",
      "e\n",
      "next element e\n",
      "visited ['a', 'e', 'c', 'f', 'd']\n",
      "c\n",
      "next element c\n",
      "visited ['a', 'e', 'c', 'f', 'd']\n",
      "b\n",
      "next element b\n",
      "visited ['a', 'e', 'c', 'f', 'd', 'b']\n",
      "d\n",
      "next element d\n",
      "visited ['a', 'e', 'c', 'f', 'd', 'b']\n",
      "a\n",
      "next element a\n",
      "visited ['a', 'e', 'c', 'f', 'd', 'b']\n",
      "a\n",
      "next element a\n",
      "visited ['a', 'e', 'c', 'f', 'd', 'b']\n",
      "d\n",
      "next element d\n",
      "visited ['a', 'e', 'c', 'f', 'd', 'b']\n",
      "a\n",
      "next element a\n",
      "visited ['a', 'e', 'c', 'f', 'd', 'b']\n",
      "c\n",
      "next element c\n",
      "visited ['a', 'e', 'c', 'f', 'd', 'b']\n",
      "b\n",
      "next element b\n",
      "visited ['a', 'e', 'c', 'f', 'd', 'b']\n"
     ]
    },
    {
     "data": {
      "text/plain": [
       "['a', 'e', 'c', 'f', 'd', 'b']"
      ]
     },
     "execution_count": 34,
     "metadata": {},
     "output_type": "execute_result"
    }
   ],
   "source": [
    "DFS(G,\"a\")"
   ]
  },
  {
   "cell_type": "code",
   "execution_count": 35,
   "metadata": {},
   "outputs": [
    {
     "data": {
      "text/plain": [
       "[('a', 'b'), ('b', 'd'), ('d', 'c'), ('c', 'e'), ('c', 'f')]"
      ]
     },
     "execution_count": 35,
     "metadata": {},
     "output_type": "execute_result"
    }
   ],
   "source": [
    "import networkx as nx\n",
    "list(nx.dfs_edges(G,\"a\"))"
   ]
  },
  {
   "cell_type": "code",
   "execution_count": null,
   "metadata": {},
   "outputs": [],
   "source": []
  },
  {
   "cell_type": "code",
   "execution_count": 58,
   "metadata": {},
   "outputs": [],
   "source": [
    "def BFS(G, start=\"a\", size=15):\n",
    "    visitedList = []\n",
    "    q=Queue(size)\n",
    "    node = start\n",
    "    q.push(node)\n",
    "    print(\"visited\", visitedList)\n",
    "    \n",
    "    while not q.isEmpty():\n",
    "        node = q.pop()\n",
    "        print(node)\n",
    "        if node not in visitedList:\n",
    "            visitedList.append(node)\n",
    "            for neibours in G[node]:\n",
    "                q.push(neibours)\n",
    "            \n",
    "\n",
    "        print(\"next element\", node)\n",
    "        print(\"visited\",visitedList)\n",
    "        \n",
    "        \n",
    "    return visitedList\n",
    "    "
   ]
  },
  {
   "cell_type": "code",
   "execution_count": 59,
   "metadata": {},
   "outputs": [
    {
     "name": "stdout",
     "output_type": "stream",
     "text": [
      "visited []\n",
      "a\n",
      "next element a\n",
      "visited ['a']\n",
      "b\n",
      "next element b\n",
      "visited ['a', 'b']\n",
      "c\n",
      "next element c\n",
      "visited ['a', 'b', 'c']\n",
      "e\n",
      "next element e\n",
      "visited ['a', 'b', 'c', 'e']\n",
      "a\n",
      "next element a\n",
      "visited ['a', 'b', 'c', 'e']\n",
      "d\n",
      "next element d\n",
      "visited ['a', 'b', 'c', 'e', 'd']\n",
      "a\n",
      "next element a\n",
      "visited ['a', 'b', 'c', 'e', 'd']\n",
      "d\n",
      "next element d\n",
      "visited ['a', 'b', 'c', 'e', 'd']\n",
      "e\n",
      "next element e\n",
      "visited ['a', 'b', 'c', 'e', 'd']\n",
      "f\n",
      "next element f\n",
      "visited ['a', 'b', 'c', 'e', 'd', 'f']\n",
      "a\n",
      "next element a\n",
      "visited ['a', 'b', 'c', 'e', 'd', 'f']\n",
      "d\n",
      "next element d\n",
      "visited ['a', 'b', 'c', 'e', 'd', 'f']\n",
      "c\n",
      "next element c\n",
      "visited ['a', 'b', 'c', 'e', 'd', 'f']\n",
      "b\n",
      "next element b\n",
      "visited ['a', 'b', 'c', 'e', 'd', 'f']\n",
      "c\n",
      "next element c\n",
      "visited ['a', 'b', 'c', 'e', 'd', 'f']\n",
      "e\n",
      "next element e\n",
      "visited ['a', 'b', 'c', 'e', 'd', 'f']\n",
      "c\n",
      "next element c\n",
      "visited ['a', 'b', 'c', 'e', 'd', 'f']\n"
     ]
    },
    {
     "data": {
      "text/plain": [
       "['a', 'b', 'c', 'e', 'd', 'f']"
      ]
     },
     "execution_count": 59,
     "metadata": {},
     "output_type": "execute_result"
    }
   ],
   "source": [
    "BFS(G,\"a\")"
   ]
  },
  {
   "cell_type": "code",
   "execution_count": 57,
   "metadata": {
    "scrolled": false
   },
   "outputs": [
    {
     "ename": "AttributeError",
     "evalue": "'dict' object has no attribute 'neighbors'",
     "output_type": "error",
     "traceback": [
      "\u001b[1;31m---------------------------------------------------------------------------\u001b[0m",
      "\u001b[1;31mAttributeError\u001b[0m                            Traceback (most recent call last)",
      "\u001b[1;32m<ipython-input-57-376c0d9e55fa>\u001b[0m in \u001b[0;36m<module>\u001b[1;34m\u001b[0m\n\u001b[0;32m      1\u001b[0m \u001b[1;32mimport\u001b[0m \u001b[0mnetworkx\u001b[0m \u001b[1;32mas\u001b[0m \u001b[0mnx\u001b[0m\u001b[1;33m\u001b[0m\u001b[1;33m\u001b[0m\u001b[0m\n\u001b[0;32m      2\u001b[0m \u001b[1;33m\u001b[0m\u001b[0m\n\u001b[1;32m----> 3\u001b[1;33m \u001b[0mlist\u001b[0m\u001b[1;33m(\u001b[0m\u001b[0mnx\u001b[0m\u001b[1;33m.\u001b[0m\u001b[0mbfs_tree\u001b[0m\u001b[1;33m(\u001b[0m\u001b[0mG\u001b[0m\u001b[1;33m,\u001b[0m \u001b[0msource\u001b[0m\u001b[1;33m=\u001b[0m\u001b[1;34m'a'\u001b[0m\u001b[1;33m)\u001b[0m\u001b[1;33m)\u001b[0m\u001b[1;33m\u001b[0m\u001b[1;33m\u001b[0m\u001b[0m\n\u001b[0m",
      "\u001b[1;32mC:\\ProgramData\\Anaconda3\\lib\\site-packages\\networkx\\algorithms\\traversal\\breadth_first_search.py\u001b[0m in \u001b[0;36mbfs_tree\u001b[1;34m(G, source, reverse, depth_limit, sort_neighbors)\u001b[0m\n\u001b[0;32m    227\u001b[0m         \u001b[0msort_neighbors\u001b[0m\u001b[1;33m=\u001b[0m\u001b[0msort_neighbors\u001b[0m\u001b[1;33m,\u001b[0m\u001b[1;33m\u001b[0m\u001b[1;33m\u001b[0m\u001b[0m\n\u001b[0;32m    228\u001b[0m     )\n\u001b[1;32m--> 229\u001b[1;33m     \u001b[0mT\u001b[0m\u001b[1;33m.\u001b[0m\u001b[0madd_edges_from\u001b[0m\u001b[1;33m(\u001b[0m\u001b[0medges_gen\u001b[0m\u001b[1;33m)\u001b[0m\u001b[1;33m\u001b[0m\u001b[1;33m\u001b[0m\u001b[0m\n\u001b[0m\u001b[0;32m    230\u001b[0m     \u001b[1;32mreturn\u001b[0m \u001b[0mT\u001b[0m\u001b[1;33m\u001b[0m\u001b[1;33m\u001b[0m\u001b[0m\n\u001b[0;32m    231\u001b[0m \u001b[1;33m\u001b[0m\u001b[0m\n",
      "\u001b[1;32mC:\\ProgramData\\Anaconda3\\lib\\site-packages\\networkx\\classes\\digraph.py\u001b[0m in \u001b[0;36madd_edges_from\u001b[1;34m(self, ebunch_to_add, **attr)\u001b[0m\n\u001b[0;32m    676\u001b[0m         \u001b[1;33m>>\u001b[0m\u001b[1;33m>\u001b[0m \u001b[0mG\u001b[0m\u001b[1;33m.\u001b[0m\u001b[0madd_edges_from\u001b[0m\u001b[1;33m(\u001b[0m\u001b[1;33m[\u001b[0m\u001b[1;33m(\u001b[0m\u001b[1;36m3\u001b[0m\u001b[1;33m,\u001b[0m \u001b[1;36m4\u001b[0m\u001b[1;33m)\u001b[0m\u001b[1;33m,\u001b[0m \u001b[1;33m(\u001b[0m\u001b[1;36m1\u001b[0m\u001b[1;33m,\u001b[0m \u001b[1;36m4\u001b[0m\u001b[1;33m)\u001b[0m\u001b[1;33m]\u001b[0m\u001b[1;33m,\u001b[0m \u001b[0mlabel\u001b[0m\u001b[1;33m=\u001b[0m\u001b[1;34m\"WN2898\"\u001b[0m\u001b[1;33m)\u001b[0m\u001b[1;33m\u001b[0m\u001b[1;33m\u001b[0m\u001b[0m\n\u001b[0;32m    677\u001b[0m         \"\"\"\n\u001b[1;32m--> 678\u001b[1;33m         \u001b[1;32mfor\u001b[0m \u001b[0me\u001b[0m \u001b[1;32min\u001b[0m \u001b[0mebunch_to_add\u001b[0m\u001b[1;33m:\u001b[0m\u001b[1;33m\u001b[0m\u001b[1;33m\u001b[0m\u001b[0m\n\u001b[0m\u001b[0;32m    679\u001b[0m             \u001b[0mne\u001b[0m \u001b[1;33m=\u001b[0m \u001b[0mlen\u001b[0m\u001b[1;33m(\u001b[0m\u001b[0me\u001b[0m\u001b[1;33m)\u001b[0m\u001b[1;33m\u001b[0m\u001b[1;33m\u001b[0m\u001b[0m\n\u001b[0;32m    680\u001b[0m             \u001b[1;32mif\u001b[0m \u001b[0mne\u001b[0m \u001b[1;33m==\u001b[0m \u001b[1;36m3\u001b[0m\u001b[1;33m:\u001b[0m\u001b[1;33m\u001b[0m\u001b[1;33m\u001b[0m\u001b[0m\n",
      "\u001b[1;32mC:\\ProgramData\\Anaconda3\\lib\\site-packages\\networkx\\algorithms\\traversal\\breadth_first_search.py\u001b[0m in \u001b[0;36mbfs_edges\u001b[1;34m(G, source, reverse, depth_limit, sort_neighbors)\u001b[0m\n\u001b[0;32m    161\u001b[0m         \u001b[0msuccessors\u001b[0m \u001b[1;33m=\u001b[0m \u001b[0mG\u001b[0m\u001b[1;33m.\u001b[0m\u001b[0mpredecessors\u001b[0m\u001b[1;33m\u001b[0m\u001b[1;33m\u001b[0m\u001b[0m\n\u001b[0;32m    162\u001b[0m     \u001b[1;32melse\u001b[0m\u001b[1;33m:\u001b[0m\u001b[1;33m\u001b[0m\u001b[1;33m\u001b[0m\u001b[0m\n\u001b[1;32m--> 163\u001b[1;33m         \u001b[0msuccessors\u001b[0m \u001b[1;33m=\u001b[0m \u001b[0mG\u001b[0m\u001b[1;33m.\u001b[0m\u001b[0mneighbors\u001b[0m\u001b[1;33m\u001b[0m\u001b[1;33m\u001b[0m\u001b[0m\n\u001b[0m\u001b[0;32m    164\u001b[0m     \u001b[1;32myield\u001b[0m \u001b[1;32mfrom\u001b[0m \u001b[0mgeneric_bfs_edges\u001b[0m\u001b[1;33m(\u001b[0m\u001b[0mG\u001b[0m\u001b[1;33m,\u001b[0m \u001b[0msource\u001b[0m\u001b[1;33m,\u001b[0m \u001b[0msuccessors\u001b[0m\u001b[1;33m,\u001b[0m \u001b[0mdepth_limit\u001b[0m\u001b[1;33m,\u001b[0m \u001b[0msort_neighbors\u001b[0m\u001b[1;33m)\u001b[0m\u001b[1;33m\u001b[0m\u001b[1;33m\u001b[0m\u001b[0m\n\u001b[0;32m    165\u001b[0m \u001b[1;33m\u001b[0m\u001b[0m\n",
      "\u001b[1;31mAttributeError\u001b[0m: 'dict' object has no attribute 'neighbors'"
     ]
    }
   ],
   "source": [
    "import networkx as nx\n",
    "\n",
    "list(nx.bfs_tree(G, source='a'))"
   ]
  },
  {
   "cell_type": "code",
   "execution_count": null,
   "metadata": {},
   "outputs": [],
   "source": []
  },
  {
   "cell_type": "code",
   "execution_count": null,
   "metadata": {},
   "outputs": [],
   "source": []
  },
  {
   "cell_type": "code",
   "execution_count": null,
   "metadata": {},
   "outputs": [],
   "source": []
  }
 ],
 "metadata": {
  "kernelspec": {
   "display_name": "Python 3",
   "language": "python",
   "name": "python3"
  },
  "language_info": {
   "codemirror_mode": {
    "name": "ipython",
    "version": 3
   },
   "file_extension": ".py",
   "mimetype": "text/x-python",
   "name": "python",
   "nbconvert_exporter": "python",
   "pygments_lexer": "ipython3",
   "version": "3.8.5"
  }
 },
 "nbformat": 4,
 "nbformat_minor": 4
}
